{
 "cells": [
  {
   "cell_type": "markdown",
   "id": "2f738c0a",
   "metadata": {},
   "source": [
    "# Python Functions\n",
    "\n",
    "        A function is a block of code which only runs when it is called.\n",
    "        You can pass data, known as parameters, into a function.\n",
    "        A function can return data as a result.\n",
    "\n",
    "# Creating a Function\n",
    "\n",
    "        In Python a function is defined using the def keyword:\n"
   ]
  },
  {
   "cell_type": "code",
   "execution_count": 3,
   "id": "90d51043",
   "metadata": {},
   "outputs": [],
   "source": [
    "def my_function():\n",
    "    print(\"Hello from a function\")\n",
    "    \n",
    "# We have created a funtion with the name of my_function \n",
    "# When ever we call my_function() it display a message "
   ]
  },
  {
   "cell_type": "code",
   "execution_count": 4,
   "id": "80461d52",
   "metadata": {},
   "outputs": [
    {
     "name": "stdout",
     "output_type": "stream",
     "text": [
      "Hello from a function\n"
     ]
    }
   ],
   "source": [
    "# To call a function, use the function name followed by parenthesis:\n",
    "\n",
    "my_function()"
   ]
  },
  {
   "cell_type": "markdown",
   "id": "9bda5471",
   "metadata": {},
   "source": [
    "# Arguments\n",
    "\n",
    "        Information can be passed into functions as arguments.\n",
    "\n",
    "        Arguments are specified after the function name, inside the parentheses. You can add as many arguments as you want, just separate them with a comma.\n",
    "\n",
    "        The following example has a function with one argument (fname). When the function is called, we pass along a first name, which is used inside the function to print the full name:"
   ]
  },
  {
   "cell_type": "code",
   "execution_count": 5,
   "id": "4ddc6cfe",
   "metadata": {},
   "outputs": [
    {
     "name": "stdout",
     "output_type": "stream",
     "text": [
      "Hello Mr. Arslan\n",
      "Hello Mr. Aun\n",
      "Hello Mr. Akbar\n"
     ]
    }
   ],
   "source": [
    "def my_function(fname):\n",
    "  print(f\"Hello Mr. {fname}\")\n",
    "\n",
    "my_function(\"Arslan\")\n",
    "my_function(\"Aun\")\n",
    "my_function(\"Akbar\")"
   ]
  },
  {
   "cell_type": "markdown",
   "id": "18c8f0ea",
   "metadata": {},
   "source": [
    "# Parameters or Arguments?\n",
    "\n",
    "    The terms parameter and argument can be used for the same thing: \n",
    "    information that are passed into a function.\n",
    "\n",
    "    From a function's perspective:\n",
    "\n",
    "    A parameter is the variable listed inside the parentheses in the \n",
    "    function definition.\n",
    "\n",
    "    An argument is the value that is sent to the function when it is called.\n",
    "\n",
    "# Number of Arguments\n",
    "\n",
    "    By default, a function must be called with the correct number of arguments. Meaning that if your function expects 2 arguments, you have to call the function with 2 arguments, not more, and not less."
   ]
  },
  {
   "cell_type": "code",
   "execution_count": 1,
   "id": "49de416a",
   "metadata": {},
   "outputs": [
    {
     "name": "stdout",
     "output_type": "stream",
     "text": [
      "Hello Mr. Muhammad Arslan\n"
     ]
    }
   ],
   "source": [
    "def my_function(fname, lname):\n",
    "  print(\"Hello Mr. \"+fname + \" \" + lname)\n",
    "\n",
    "my_function(\"Muhammad\", \"Arslan\")\n",
    "\n",
    "# If you try to call the function with 1 or 3 arguments,\n",
    "# you will get an error:"
   ]
  },
  {
   "cell_type": "markdown",
   "id": "c6afab13",
   "metadata": {},
   "source": [
    "# Arbitrary Arguments, *args\n",
    "\n",
    "    If you do not know how many arguments that will be passed into your\n",
    "    function, add a * before the parameter name in the function definition.\n",
    "\n",
    "    This way the function will receive a tuple of arguments, and can access \n",
    "    the items accordingly:"
   ]
  },
  {
   "cell_type": "code",
   "execution_count": 3,
   "id": "1eef2893",
   "metadata": {},
   "outputs": [
    {
     "name": "stdout",
     "output_type": "stream",
     "text": [
      "The youngest child is Tobias\n"
     ]
    }
   ],
   "source": [
    "# If the number of arguments is unknown, add a * before the parameter name:\n",
    "\n",
    "def my_function(*kids):\n",
    "  print(\"The youngest child is \" + str(kids[1]))\n",
    "\n",
    "my_function(\"Emil\", \"Tobias\", \"Linus\")"
   ]
  },
  {
   "cell_type": "markdown",
   "id": "76f00bd1",
   "metadata": {},
   "source": [
    "# Keyword Arguments\n",
    "\n",
    "    You can also send arguments with the key = value syntax.\n",
    "    This way the order of the arguments does not matter."
   ]
  },
  {
   "cell_type": "code",
   "execution_count": 9,
   "id": "613a799a",
   "metadata": {},
   "outputs": [
    {
     "name": "stdout",
     "output_type": "stream",
     "text": [
      "The youngest child is Linus\n"
     ]
    }
   ],
   "source": [
    "def my_function(child3, child2, child1):\n",
    "  print(\"The youngest child is \" + child3)\n",
    "\n",
    "my_function(child1 = \"Emil\", child2 = \"Tobias\", child3 = \"Linus\")"
   ]
  },
  {
   "cell_type": "markdown",
   "id": "8417c320",
   "metadata": {},
   "source": [
    "# Arbitrary Keyword Arguments, **kwargs\n",
    "\n",
    "    If you do not know how many keyword arguments that will be passed into \n",
    "    your function, add two asterisk: ** before the parameter name in \n",
    "    the function definition.\n",
    "\n",
    "    This way the function will receive a dictionary of arguments, \n",
    "    and can access the items accordingly:"
   ]
  },
  {
   "cell_type": "code",
   "execution_count": 10,
   "id": "297fb7bb",
   "metadata": {},
   "outputs": [
    {
     "name": "stdout",
     "output_type": "stream",
     "text": [
      "His last name is Refsnes\n"
     ]
    }
   ],
   "source": [
    "def my_function(**kid):\n",
    "  print(\"His last name is \" + kid[\"lname\"])\n",
    "\n",
    "my_function(fname = \"Tobias\", lname = \"Refsnes\")"
   ]
  },
  {
   "cell_type": "markdown",
   "id": "cd039e5d",
   "metadata": {},
   "source": [
    "# Default Parameter Value\n",
    "\n",
    "    The following example shows how to use a default parameter value.\n",
    "    If we call the function without argument, it uses the default value:"
   ]
  },
  {
   "cell_type": "code",
   "execution_count": 11,
   "id": "4ff3446b",
   "metadata": {},
   "outputs": [
    {
     "name": "stdout",
     "output_type": "stream",
     "text": [
      "I am from Turki\n",
      "I am from Pakistan\n",
      "I am from Norway\n",
      "I am from Dubai\n"
     ]
    }
   ],
   "source": [
    "def my_function(country = \"Norway\"):\n",
    "  print(\"I am from \" + country)\n",
    "\n",
    "my_function(\"Turki\")\n",
    "my_function(\"Pakistan\")\n",
    "my_function()\n",
    "my_function(\"Dubai\")"
   ]
  },
  {
   "cell_type": "markdown",
   "id": "221004ea",
   "metadata": {},
   "source": [
    "# Passing a List as an Argument\n",
    "\n",
    "    You can send any data types of argument to a function (string, number,\n",
    "    list, dictionary etc.), and it will be treated as the same data type \n",
    "    inside the function.\n",
    "\n",
    "    E.g. if you send a List as an argument, it will still be a List when \n",
    "    it reaches the function:"
   ]
  },
  {
   "cell_type": "code",
   "execution_count": 15,
   "id": "30850a3c",
   "metadata": {},
   "outputs": [
    {
     "name": "stdout",
     "output_type": "stream",
     "text": [
      "apple\n",
      "banana\n",
      "cherry\n"
     ]
    }
   ],
   "source": [
    "def my_function(food):\n",
    "  for x in food:\n",
    "    print(x)\n",
    "\n",
    "fruits = [\"apple\", \"banana\", \"cherry\"]\n",
    "\n",
    "my_function(fruits)"
   ]
  },
  {
   "cell_type": "markdown",
   "id": "bf26ae3d",
   "metadata": {},
   "source": [
    "# Return Values\n",
    "\n",
    "    To let a function return a value, use the return statement:"
   ]
  },
  {
   "cell_type": "code",
   "execution_count": 13,
   "id": "69e8d760",
   "metadata": {},
   "outputs": [
    {
     "name": "stdout",
     "output_type": "stream",
     "text": [
      "15\n",
      "25\n",
      "45\n"
     ]
    }
   ],
   "source": [
    "def my_function(x):\n",
    "  return 5 * x\n",
    "\n",
    "print(my_function(3))\n",
    "print(my_function(5))\n",
    "print(my_function(9))"
   ]
  },
  {
   "cell_type": "markdown",
   "id": "c69f80ae",
   "metadata": {},
   "source": [
    "# The pass Statement\n",
    "    \n",
    "    function definitions cannot be empty, but if you for some reason have \n",
    "    a function definition with no content, put in the pass statement to \n",
    "    avoid getting an error."
   ]
  },
  {
   "cell_type": "code",
   "execution_count": 14,
   "id": "02bdee36",
   "metadata": {},
   "outputs": [],
   "source": [
    "def myfunction():\n",
    "  pass"
   ]
  },
  {
   "cell_type": "code",
   "execution_count": 6,
   "id": "e03573dd",
   "metadata": {},
   "outputs": [
    {
     "name": "stdout",
     "output_type": "stream",
     "text": [
      "Enter your first Value54\n",
      "Enter your 2nd Value5\n",
      "your result is  49\n"
     ]
    }
   ],
   "source": [
    "int1 = int(input(\"Enter your first Value\"))\n",
    "int2 = int(input(\"Enter your 2nd Value\"))\n",
    "Sum = int1 - int2\n",
    "print(\"your result is \",Sum)"
   ]
  },
  {
   "cell_type": "code",
   "execution_count": null,
   "id": "c7b40926",
   "metadata": {},
   "outputs": [],
   "source": []
  },
  {
   "cell_type": "code",
   "execution_count": null,
   "id": "cc319381",
   "metadata": {},
   "outputs": [],
   "source": []
  },
  {
   "cell_type": "code",
   "execution_count": null,
   "id": "78c995fa",
   "metadata": {},
   "outputs": [],
   "source": []
  },
  {
   "cell_type": "code",
   "execution_count": null,
   "id": "f966dbb8",
   "metadata": {},
   "outputs": [],
   "source": []
  }
 ],
 "metadata": {
  "kernelspec": {
   "display_name": "Python 3 (ipykernel)",
   "language": "python",
   "name": "python3"
  },
  "language_info": {
   "codemirror_mode": {
    "name": "ipython",
    "version": 3
   },
   "file_extension": ".py",
   "mimetype": "text/x-python",
   "name": "python",
   "nbconvert_exporter": "python",
   "pygments_lexer": "ipython3",
   "version": "3.7.9"
  }
 },
 "nbformat": 4,
 "nbformat_minor": 5
}
